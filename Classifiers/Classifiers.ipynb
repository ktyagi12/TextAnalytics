{
 "cells": [
  {
   "cell_type": "markdown",
   "metadata": {},
   "source": [
    "### k-NN Algorithm\n",
    "\n",
    "Provided Iris data set and k-NN applied to it. Two parameters are interesting: (i) the split which is the size of the training subset v test subset (split = .67) means roughly 2/3rds training, 1/3rd testing, (ii) k which is the size of nearest neighbours. Note, the Accuracy of model is determined for test sets; it measures how well it classifications work for the unseen set."
   ]
  },
  {
   "cell_type": "code",
   "execution_count": 1,
   "metadata": {},
   "outputs": [
    {
     "name": "stdout",
     "output_type": "stream",
     "text": [
      "Train set: 138\n",
      "Test set: 11\n",
      "> predicted='Iris-setosa', actual='Iris-setosa'\n",
      "> predicted='Iris-setosa', actual='Iris-setosa'\n",
      "> predicted='Iris-setosa', actual='Iris-setosa'\n",
      "> predicted='Iris-setosa', actual='Iris-setosa'\n",
      "> predicted='Iris-setosa', actual='Iris-setosa'\n",
      "> predicted='Iris-setosa', actual='Iris-setosa'\n",
      "> predicted='Iris-versicolor', actual='Iris-versicolor'\n",
      "> predicted='Iris-versicolor', actual='Iris-versicolor'\n",
      "> predicted='Iris-virginica', actual='Iris-virginica'\n",
      "> predicted='Iris-versicolor', actual='Iris-virginica'\n",
      "> predicted='Iris-virginica', actual='Iris-virginica'\n",
      "Accuracy: 90.9090909090909%\n"
     ]
    }
   ],
   "source": [
    "# Example of kNN implemented from Scratch in Python\n",
    "# By Jason Brownlee\n",
    "#http://machinelearningmastery.com/tutorial-to-implement-k-nearest-neighbors-in-python-from-scratch/\n",
    "\n",
    "import csv\n",
    "import random\n",
    "import math\n",
    "import operator\n",
    "\n",
    "def loadDataset(filename, split, trainingSet=[] , testSet=[]):\n",
    "    with open(filename, 'r') as csvfile:\n",
    "        lines = csv.reader(csvfile)\n",
    "        dataset = list(lines)\n",
    "        for x in range(len(dataset)-1):\n",
    "            for y in range(4):\n",
    "                dataset[x][y] = float(dataset[x][y])\n",
    "            if random.random() < split:\n",
    "                trainingSet.append(dataset[x])\n",
    "            else:\n",
    "                testSet.append(dataset[x])\n",
    "\n",
    "\n",
    "def euclideanDistance(instance1, instance2, length):\n",
    "    distance = 0\n",
    "    for x in range(length):\n",
    "        distance += pow((instance1[x] - instance2[x]), 2)\n",
    "    return math.sqrt(distance)\n",
    "\n",
    "def getNeighbors(trainingSet, testInstance, k):\n",
    "    distances = []\n",
    "    length = len(testInstance)-1\n",
    "    for x in range(len(trainingSet)):\n",
    "        dist = euclideanDistance(testInstance, trainingSet[x], length)\n",
    "        distances.append((trainingSet[x], dist))\n",
    "        distances.sort(key=operator.itemgetter(1))\n",
    "    neighbors = []\n",
    "    for x in range(k):\n",
    "        neighbors.append(distances[x][0])\n",
    "    return neighbors\n",
    "\n",
    "def getResponse(neighbors):\n",
    "    classVotes = {}\n",
    "    for x in range(len(neighbors)):\n",
    "        response = neighbors[x][-1]\n",
    "        if response in classVotes:\n",
    "            classVotes[response] += 1\n",
    "        else:\n",
    "            classVotes[response] = 1\n",
    "    sortedVotes = sorted(classVotes.items(), key=operator.itemgetter(1), reverse=True)\n",
    "    return sortedVotes[0][0]\n",
    "\n",
    "def getAccuracy(testSet, predictions):\n",
    "    correct = 0\n",
    "    for x in range(len(testSet)):\n",
    "        if testSet[x][-1] == predictions[x]:\n",
    "            correct += 1\n",
    "    return (correct/float(len(testSet))) * 100.0\n",
    "\n",
    "def main():\n",
    "    # prepare data\n",
    "    trainingSet=[]\n",
    "    testSet=[]\n",
    "    split = 0.9\n",
    "    loadDataset(\"D:\\TextAnalytics\\Assignments\\Assignment6\\iris.csv\", split, trainingSet, testSet)\n",
    "    print('Train set: ' + repr(len(trainingSet)))\n",
    "    print('Test set: ' + repr(len(testSet)))\n",
    "    # generate predictions\n",
    "    predictions=[]\n",
    "    k = 2\n",
    "    for x in range(len(testSet)):\n",
    "        neighbors = getNeighbors(trainingSet, testSet[x], k)\n",
    "        result = getResponse(neighbors)\n",
    "        predictions.append(result)\n",
    "        print('> predicted=' + repr(result) + ', actual=' + repr(testSet[x][-1]))\n",
    "    accuracy = getAccuracy(testSet, predictions)\n",
    "    print('Accuracy: ' + repr(accuracy) + '%')\n",
    "    \n",
    "main()"
   ]
  },
  {
   "cell_type": "markdown",
   "metadata": {},
   "source": [
    "## Split values:[0.2,0.4,0.6,0.8]\n",
    "## For every split, k is [1,5,10,15,20]"
   ]
  },
  {
   "cell_type": "code",
   "execution_count": 2,
   "metadata": {
    "scrolled": true
   },
   "outputs": [
    {
     "name": "stdout",
     "output_type": "stream",
     "text": [
      "\n",
      "\n",
      "Train set: 38\n",
      "Test set: 111\n",
      "\n",
      "Accuracy for split= 0.2 and k= 20 is:  [96.3963963963964, 97.2972972972973, 97.2972972972973, 97.2972972972973, 96.3963963963964]%\n",
      "\n",
      "\n",
      "Train set: 48\n",
      "Test set: 101\n",
      "\n",
      "Accuracy for split= 0.4 and k= 20 is:  [97.02970297029702, 95.04950495049505, 95.04950495049505, 91.0891089108911, 94.05940594059405]%\n",
      "\n",
      "\n",
      "Train set: 91\n",
      "Test set: 58\n",
      "\n",
      "Accuracy for split= 0.6 and k= 20 is:  [96.55172413793103, 91.37931034482759, 91.37931034482759, 89.65517241379311, 89.65517241379311]%\n",
      "\n",
      "\n",
      "Train set: 107\n",
      "Test set: 42\n",
      "\n",
      "Accuracy for split= 0.8 and k= 20 is:  [92.85714285714286, 97.61904761904762, 95.23809523809523, 92.85714285714286, 95.23809523809523]%\n"
     ]
    }
   ],
   "source": [
    "# Example of kNN implemented from Scratch in Python\n",
    "# By Jason Brownlee\n",
    "#http://machinelearningmastery.com/tutorial-to-implement-k-nearest-neighbors-in-python-from-scratch/\n",
    "\n",
    "import csv\n",
    "import random\n",
    "import math\n",
    "import operator\n",
    "import matplotlib.pyplot as plt\n",
    "import pandas as pd\n",
    "\n",
    "def loadDataset(filename, split, trainingSet=[] , testSet=[]):\n",
    "    with open(filename, 'r') as csvfile:\n",
    "        lines = csv.reader(csvfile)\n",
    "        dataset = list(lines)\n",
    "        for x in range(len(dataset)-1):\n",
    "            for y in range(4):\n",
    "                dataset[x][y] = float(dataset[x][y])\n",
    "            if random.random() < split:\n",
    "                trainingSet.append(dataset[x])\n",
    "            else:\n",
    "                testSet.append(dataset[x])\n",
    "\n",
    "\n",
    "def euclideanDistance(instance1, instance2, length):\n",
    "    distance = 0\n",
    "    for x in range(length):\n",
    "        distance += pow((instance1[x] - instance2[x]), 2)\n",
    "    return math.sqrt(distance)\n",
    "\n",
    "def getNeighbors(trainingSet, testInstance, k):\n",
    "    distances = []\n",
    "    length = len(testInstance)-1\n",
    "    for x in range(len(trainingSet)):\n",
    "        dist = euclideanDistance(testInstance, trainingSet[x], length)\n",
    "        distances.append((trainingSet[x], dist))\n",
    "        distances.sort(key=operator.itemgetter(1))\n",
    "    neighbors = []\n",
    "    for x in range(k):\n",
    "        neighbors.append(distances[x][0])\n",
    "    return neighbors\n",
    "\n",
    "def getResponse(neighbors):\n",
    "    classVotes = {}\n",
    "    for x in range(len(neighbors)):\n",
    "        response = neighbors[x][-1]\n",
    "        if response in classVotes:\n",
    "            classVotes[response] += 1\n",
    "        else:\n",
    "            classVotes[response] = 1\n",
    "    sortedVotes = sorted(classVotes.items(), key=operator.itemgetter(1), reverse=True)\n",
    "    return sortedVotes[0][0]\n",
    "\n",
    "def getAccuracy(testSet, predictions):\n",
    "    correct = 0\n",
    "    for x in range(len(testSet)):\n",
    "        if testSet[x][-1] == predictions[x]:\n",
    "            correct += 1\n",
    "    return (correct/float(len(testSet))) * 100.0\n",
    "\n",
    "def main():\n",
    "    # prepare data\n",
    "    accuracy_dict = {}\n",
    "    split = [0.2, 0.4, 0.6, 0.8]\n",
    "    for i in split:\n",
    "        trainingSet=[]\n",
    "        testSet=[]\n",
    "        accuracy = []\n",
    "        loadDataset(\"D:\\TextAnalytics\\Assignments\\Assignment6\\iris.csv\", i, trainingSet, testSet)\n",
    "        print('\\n\\nTrain set: ' + repr(len(trainingSet)))\n",
    "        print('Test set: ' + repr(len(testSet)))\n",
    "        # generate predictions\n",
    "       \n",
    "        k = [1,5,10,15,20]\n",
    "        for j in k:\n",
    "            predictions=[]\n",
    "            for x in range(len(testSet)):\n",
    "                neighbors = getNeighbors(trainingSet, testSet[x], j)\n",
    "                result = getResponse(neighbors)\n",
    "                predictions.append(result)\n",
    "                #print('> predicted=' + repr(result) + ', actual=' + repr(testSet[x][-1]))\n",
    "            accuracy.append(getAccuracy(testSet, predictions))\n",
    "            accuracy_dict[i] = accuracy\n",
    "        print('\\nAccuracy for split=',i ,'and k=',j,'is: ',repr(accuracy) + '%')\n",
    "   \n",
    "    dframe = pd.DataFrame(accuracy_dict, index = k)\n",
    "    #print(dframe)\n",
    "    \n",
    "    plt.figure(dpi = 200, figsize = (18,9))\n",
    "    dframe.plot(marker = 'o')\n",
    "    plt.title('Accuracy using a split')\n",
    "    plt.xlabel('Values of k')\n",
    "    plt.ylabel('Accuracy values')\n",
    "    plt.xticks([1,5,10,15,20]) \n",
    "    \n",
    "main()"
   ]
  },
  {
   "cell_type": "markdown",
   "metadata": {},
   "source": [
    "## 5 Fold Cross validation\n",
    "Taking ideas about cross-validation into account; systematically vary the size of the split ; exploring a decent number of other values for it >0.0 and <0.9. Also to systematically vary k on five selected values between 1 and 20."
   ]
  },
  {
   "cell_type": "code",
   "execution_count": 3,
   "metadata": {},
   "outputs": [
    {
     "data": {
      "text/html": [
       "<div>\n",
       "<style scoped>\n",
       "    .dataframe tbody tr th:only-of-type {\n",
       "        vertical-align: middle;\n",
       "    }\n",
       "\n",
       "    .dataframe tbody tr th {\n",
       "        vertical-align: top;\n",
       "    }\n",
       "\n",
       "    .dataframe thead th {\n",
       "        text-align: right;\n",
       "    }\n",
       "</style>\n",
       "<table border=\"1\" class=\"dataframe\">\n",
       "  <thead>\n",
       "    <tr style=\"text-align: right;\">\n",
       "      <th></th>\n",
       "      <th>0</th>\n",
       "      <th>1</th>\n",
       "      <th>2</th>\n",
       "      <th>3</th>\n",
       "    </tr>\n",
       "  </thead>\n",
       "  <tbody>\n",
       "    <tr>\n",
       "      <td>0</td>\n",
       "      <td>5.1</td>\n",
       "      <td>3.5</td>\n",
       "      <td>1.4</td>\n",
       "      <td>0.2</td>\n",
       "    </tr>\n",
       "    <tr>\n",
       "      <td>1</td>\n",
       "      <td>4.9</td>\n",
       "      <td>3.0</td>\n",
       "      <td>1.4</td>\n",
       "      <td>0.2</td>\n",
       "    </tr>\n",
       "    <tr>\n",
       "      <td>2</td>\n",
       "      <td>4.7</td>\n",
       "      <td>3.2</td>\n",
       "      <td>1.3</td>\n",
       "      <td>0.2</td>\n",
       "    </tr>\n",
       "    <tr>\n",
       "      <td>3</td>\n",
       "      <td>4.6</td>\n",
       "      <td>3.1</td>\n",
       "      <td>1.5</td>\n",
       "      <td>0.2</td>\n",
       "    </tr>\n",
       "    <tr>\n",
       "      <td>4</td>\n",
       "      <td>5.0</td>\n",
       "      <td>3.6</td>\n",
       "      <td>1.4</td>\n",
       "      <td>0.2</td>\n",
       "    </tr>\n",
       "    <tr>\n",
       "      <td>...</td>\n",
       "      <td>...</td>\n",
       "      <td>...</td>\n",
       "      <td>...</td>\n",
       "      <td>...</td>\n",
       "    </tr>\n",
       "    <tr>\n",
       "      <td>145</td>\n",
       "      <td>6.7</td>\n",
       "      <td>3.0</td>\n",
       "      <td>5.2</td>\n",
       "      <td>2.3</td>\n",
       "    </tr>\n",
       "    <tr>\n",
       "      <td>146</td>\n",
       "      <td>6.3</td>\n",
       "      <td>2.5</td>\n",
       "      <td>5.0</td>\n",
       "      <td>1.9</td>\n",
       "    </tr>\n",
       "    <tr>\n",
       "      <td>147</td>\n",
       "      <td>6.5</td>\n",
       "      <td>3.0</td>\n",
       "      <td>5.2</td>\n",
       "      <td>2.0</td>\n",
       "    </tr>\n",
       "    <tr>\n",
       "      <td>148</td>\n",
       "      <td>6.2</td>\n",
       "      <td>3.4</td>\n",
       "      <td>5.4</td>\n",
       "      <td>2.3</td>\n",
       "    </tr>\n",
       "    <tr>\n",
       "      <td>149</td>\n",
       "      <td>5.9</td>\n",
       "      <td>3.0</td>\n",
       "      <td>5.1</td>\n",
       "      <td>1.8</td>\n",
       "    </tr>\n",
       "  </tbody>\n",
       "</table>\n",
       "<p>150 rows × 4 columns</p>\n",
       "</div>"
      ],
      "text/plain": [
       "       0    1    2    3\n",
       "0    5.1  3.5  1.4  0.2\n",
       "1    4.9  3.0  1.4  0.2\n",
       "2    4.7  3.2  1.3  0.2\n",
       "3    4.6  3.1  1.5  0.2\n",
       "4    5.0  3.6  1.4  0.2\n",
       "..   ...  ...  ...  ...\n",
       "145  6.7  3.0  5.2  2.3\n",
       "146  6.3  2.5  5.0  1.9\n",
       "147  6.5  3.0  5.2  2.0\n",
       "148  6.2  3.4  5.4  2.3\n",
       "149  5.9  3.0  5.1  1.8\n",
       "\n",
       "[150 rows x 4 columns]"
      ]
     },
     "execution_count": 3,
     "metadata": {},
     "output_type": "execute_result"
    }
   ],
   "source": [
    "dframe = pd.read_csv(\"D:\\TextAnalytics\\Assignments\\Assignment6\\iris_crossVal.csv\", header= None)\n",
    "y = dframe.iloc[:,-1]\n",
    "X = dframe.iloc[:,:-1]\n",
    "X"
   ]
  },
  {
   "cell_type": "code",
   "execution_count": 4,
   "metadata": {},
   "outputs": [],
   "source": [
    "from sklearn.neighbors import KNeighborsClassifier\n",
    "from sklearn.model_selection import train_test_split\n",
    "import matplotlib.pyplot as plt\n",
    "from sklearn.model_selection import cross_val_score\n",
    "from sklearn import metrics\n",
    "from sklearn.metrics import confusion_matrix\n",
    "\n",
    "dframe_dict = {}\n",
    "mean_list = []"
   ]
  },
  {
   "cell_type": "code",
   "execution_count": 5,
   "metadata": {},
   "outputs": [
    {
     "name": "stdout",
     "output_type": "stream",
     "text": [
      "\n",
      "5x CV Accuracy kNNs: 0.96\n"
     ]
    }
   ],
   "source": [
    "kNN_k = 1\n",
    "kNN = KNeighborsClassifier(n_neighbors=kNN_k)  \n",
    "kNN_scores = cross_val_score(kNN, X, y, cv=5)\n",
    "print(\"\\n5x CV Accuracy kNNs: {0:.2f}\".format(kNN_scores.mean())) \n",
    "#print(kNN_scores)\n",
    "mean_list.append(kNN_scores.mean())\n",
    "#print('Mean List: ', mean_list)\n",
    "dframe_dict[kNN_k] = mean_list[0]\n",
    "#print(dframe_dict)"
   ]
  },
  {
   "cell_type": "code",
   "execution_count": 6,
   "metadata": {},
   "outputs": [
    {
     "name": "stdout",
     "output_type": "stream",
     "text": [
      "\n",
      "5x CV Accuracy kNNs: 0.97\n"
     ]
    }
   ],
   "source": [
    "kNN_k = 5\n",
    "kNN = KNeighborsClassifier(n_neighbors=kNN_k)  \n",
    "kNN_scores = cross_val_score(kNN, X, y, cv=5)\n",
    "print(\"\\n5x CV Accuracy kNNs: {0:.2f}\".format(kNN_scores.mean()))  \n",
    "#print(kNN_scores)\n",
    "mean_list.append(kNN_scores.mean())\n",
    "#print('Mean List: ', mean_list)\n",
    "dframe_dict[kNN_k] = kNN_scores.mean()\n",
    "#print(dframe_dict)"
   ]
  },
  {
   "cell_type": "code",
   "execution_count": 7,
   "metadata": {},
   "outputs": [
    {
     "name": "stdout",
     "output_type": "stream",
     "text": [
      "\n",
      "5x CV Accuracy kNNs: 0.98\n"
     ]
    }
   ],
   "source": [
    "kNN_k = 10\n",
    "kNN = KNeighborsClassifier(n_neighbors=kNN_k)  \n",
    "kNN_scores = cross_val_score(kNN, X, y, cv=5)\n",
    "print(\"\\n5x CV Accuracy kNNs: {0:.2f}\".format(kNN_scores.mean()))  \n",
    "#print(kNN_scores)\n",
    "mean_list.append(kNN_scores.mean())\n",
    "#print('Mean List: ', mean_list)\n",
    "dframe_dict[kNN_k] = kNN_scores.mean()\n",
    "#print(dframe_dict)"
   ]
  },
  {
   "cell_type": "code",
   "execution_count": 8,
   "metadata": {},
   "outputs": [
    {
     "name": "stdout",
     "output_type": "stream",
     "text": [
      "\n",
      "5x CV Accuracy kNNs: 0.97\n"
     ]
    }
   ],
   "source": [
    "kNN_k = 15\n",
    "kNN = KNeighborsClassifier(n_neighbors=kNN_k)  \n",
    "kNN_scores = cross_val_score(kNN, X, y, cv=5)\n",
    "print(\"\\n5x CV Accuracy kNNs: {0:.2f}\".format(kNN_scores.mean())) \n",
    "#print(kNN_scores)\n",
    "mean_list.append(kNN_scores.mean())\n",
    "#print('Mean List: ', mean_list)\n",
    "dframe_dict[kNN_k] = kNN_scores.mean()\n",
    "#print(dframe_dict)"
   ]
  },
  {
   "cell_type": "code",
   "execution_count": 9,
   "metadata": {},
   "outputs": [
    {
     "name": "stdout",
     "output_type": "stream",
     "text": [
      "\n",
      "5x CV Accuracy kNNs: 0.96\n"
     ]
    }
   ],
   "source": [
    "kNN_k = 20\n",
    "kNN = KNeighborsClassifier(n_neighbors=kNN_k)  \n",
    "kNN_scores = cross_val_score(kNN, X, y, cv=5)\n",
    "print(\"\\n5x CV Accuracy kNNs: {0:.2f}\".format(kNN_scores.mean())) \n",
    "#print(kNN_scores)\n",
    "mean_list.append(kNN_scores.mean())\n",
    "#print('Mean List: ', mean_list)\n",
    "dframe_dict[kNN_k] = kNN_scores.mean()\n",
    "#print(dframe_dict)"
   ]
  },
  {
   "cell_type": "markdown",
   "metadata": {},
   "source": [
    "### Then plot the accuracy in a graph for these parameter changes Now, using this data set, describe an algorithm for doing a 5-fold cross validation on this data set. See can you implement it in Python."
   ]
  },
  {
   "cell_type": "code",
   "execution_count": 10,
   "metadata": {},
   "outputs": [
    {
     "name": "stdout",
     "output_type": "stream",
     "text": [
      "    Accuracy\n",
      "1   0.960000\n",
      "5   0.973333\n",
      "10  0.980000\n",
      "15  0.966667\n",
      "20  0.960000\n"
     ]
    },
    {
     "data": {
      "text/plain": [
       "([<matplotlib.axis.XTick at 0x1aebe00d0b8>,\n",
       "  <matplotlib.axis.XTick at 0x1aebe003518>,\n",
       "  <matplotlib.axis.XTick at 0x1aebe0364e0>,\n",
       "  <matplotlib.axis.XTick at 0x1aebe036748>,\n",
       "  <matplotlib.axis.XTick at 0x1aebe036e48>],\n",
       " <a list of 5 Text xticklabel objects>)"
      ]
     },
     "execution_count": 10,
     "metadata": {},
     "output_type": "execute_result"
    },
    {
     "data": {
      "image/png": "[encoded data removed]",
      "text/plain": [
       "<Figure size 864x432 with 1 Axes>"
      ]
     },
     "metadata": {
      "needs_background": "light"
     },
     "output_type": "display_data"
    }
   ],
   "source": [
    "df = pd.DataFrame(mean_list, index = [1,5,10,15,20],columns = ['Accuracy'])\n",
    "print(df)\n",
    "df.plot(figsize = (12,6), marker = 'o', color = 'green')\n",
    "plt.title('Accuracy using cross validation')\n",
    "plt.xlabel('Number of neighbors in kNN')\n",
    "plt.ylabel('Accuracy values')\n",
    "plt.xticks([1,5,10,15,20])"
   ]
  },
  {
   "cell_type": "markdown",
   "metadata": {},
   "source": [
    "## 2: Naives Bayes\n",
    "Have a look at the nltk Bayes classifier that does the prediction of male/female names based on the last letter in the name.\n",
    "Think of a new feature that you could extract from the data-set; define a fn for it (modifying gender_features) and see what is learned from it in the classification.\n",
    "Compare the accuracy of your feature versus that of the last_letter feature and discuss."
   ]
  },
  {
   "cell_type": "code",
   "execution_count": 11,
   "metadata": {},
   "outputs": [
    {
     "name": "stdout",
     "output_type": "stream",
     "text": [
      "Suhana is: female\n",
      "Shiro is: male\n",
      "Most Informative Features\n",
      "             last_letter = 'a'            female : male   =     35.6 : 1.0\n",
      "             last_letter = 'k'              male : female =     31.7 : 1.0\n",
      "             last_letter = 'f'              male : female =     15.2 : 1.0\n",
      "             last_letter = 'p'              male : female =     11.9 : 1.0\n",
      "             last_letter = 'v'              male : female =      9.8 : 1.0\n",
      "0.786\n"
     ]
    }
   ],
   "source": [
    "# Fetch last letter from the text\n",
    "\n",
    "import nltk\n",
    "from nltk.corpus import names\n",
    "import random\n",
    "\n",
    "def gender_features(word):\n",
    "    return {'last_letter': word[-1]}\n",
    "# gender_features('Shrek') = {'last_letter': 'k'}\n",
    "\n",
    "male_names = [(name, 'male') for name in names.words('male.txt')]\n",
    "female_names = [(name, 'female') for name in names.words('female.txt')]\n",
    "\n",
    "labeled_names = male_names + female_names\n",
    "random.shuffle(labeled_names)\n",
    "\n",
    "featuresets = [(gender_features(n), gender) for (n, gender) in labeled_names]\n",
    "#entries are    ({'last_letter': 'g'}, 'male')\n",
    "train_set, test_set = featuresets[500:], featuresets[:500]\n",
    "\n",
    "classifier = nltk.NaiveBayesClassifier.train(train_set)\n",
    "\n",
    "ans1 = classifier.classify(gender_features('Suhana'))\n",
    "ans2 = classifier.classify(gender_features('Shiro'))\n",
    "\n",
    "print(\"Suhana is:\", ans1)\n",
    "print(\"Shiro is:\", ans2)\n",
    "#print('Male Names: ', male_names)\n",
    "#print('Female Names',female_names)\n",
    "classifier.show_most_informative_features(5)\n",
    "print(nltk.classify.accuracy(classifier, test_set))"
   ]
  },
  {
   "cell_type": "code",
   "execution_count": 12,
   "metadata": {},
   "outputs": [
    {
     "name": "stdout",
     "output_type": "stream",
     "text": [
      "Suhana is: female\n",
      "Shiro is: male\n",
      "Most Informative Features\n",
      " combo_first_last_letter = 'aC'           female : male   =     57.2 : 1.0\n",
      " combo_first_last_letter = 'aD'           female : male   =     39.0 : 1.0\n",
      " combo_first_last_letter = 'aR'           female : male   =     37.8 : 1.0\n",
      " combo_first_last_letter = 'nH'             male : female =     34.6 : 1.0\n",
      " combo_first_last_letter = 'aA'           female : male   =     29.5 : 1.0\n",
      "0.78\n"
     ]
    }
   ],
   "source": [
    "# Fetch last letter from the text\n",
    "\n",
    "import nltk\n",
    "from nltk.corpus import names\n",
    "import random\n",
    "\n",
    "def gender_features_updated(word):\n",
    "    return {'combo_first_last_letter': word[-1:]+ word[0]}\n",
    "\n",
    "male_names = [(name, 'male') for name in names.words('male.txt')]\n",
    "female_names = [(name, 'female') for name in names.words('female.txt')]\n",
    "\n",
    "labeled_names = male_names + female_names\n",
    "random.shuffle(labeled_names)\n",
    "\n",
    "featuresets_updated = [(gender_features_updated(n), gender) for (n, gender) in labeled_names]\n",
    "#entries are    ({'last_letter': 'g'}, 'male')\n",
    "train_set, test_set = featuresets_updated[500:], featuresets_updated[:500]\n",
    "\n",
    "classifier = nltk.NaiveBayesClassifier.train(train_set)\n",
    "\n",
    "ans3 = classifier.classify(gender_features_updated('Suhana'))\n",
    "ans4 = classifier.classify(gender_features_updated('Shiro'))\n",
    "\n",
    "print(\"Suhana is:\", ans3)\n",
    "print(\"Shiro is:\", ans4)\n",
    "\n",
    "classifier.show_most_informative_features(5)\n",
    "print(nltk.classify.accuracy(classifier, test_set))"
   ]
  },
  {
   "cell_type": "code",
   "execution_count": 13,
   "metadata": {},
   "outputs": [
    {
     "data": {
      "text/plain": [
       "Text(0.5, 1.0, 'Accuracy Plot for classifiers')"
      ]
     },
     "execution_count": 13,
     "metadata": {},
     "output_type": "execute_result"
    },
    {
     "data": {
      "image/png": "[encoded data removed]",
      "text/plain": [
       "<Figure size 432x288 with 1 Axes>"
      ]
     },
     "metadata": {
      "needs_background": "light"
     },
     "output_type": "display_data"
    }
   ],
   "source": [
    "plt.bar(x = ['Last Letter Classifier','First and last Classifier'],height = [0.76,0.792])\n",
    "plt.xlabel('Classifiers')\n",
    "plt.ylabel('Accuracy')\n",
    "plt.title('Accuracy Plot for classifiers')"
   ]
  },
  {
   "cell_type": "markdown",
   "metadata": {},
   "source": [
    "## 3 SVM\n",
    "Learning Hand Written Digits Recognition\n",
    "\n",
    "Now run three different training configurations and then test the outputs for 5-10 different digits;"
   ]
  },
  {
   "cell_type": "code",
   "execution_count": 14,
   "metadata": {},
   "outputs": [
    {
     "name": "stdout",
     "output_type": "stream",
     "text": [
      "1797\n",
      "Prediction: [1]\n"
     ]
    },
    {
     "data": {
      "image/png": "[encoded data removed]",
      "text/plain": [
       "<Figure size 432x288 with 1 Axes>"
      ]
     },
     "metadata": {
      "needs_background": "light"
     },
     "output_type": "display_data"
    }
   ],
   "source": [
    "__author__ = 'user'\n",
    "# http://pythonprogramming.net/support-vector-machine-svm-example-tutorial-scikit-learn-python/\n",
    "\n",
    "import matplotlib.pyplot as plt\n",
    "\n",
    "from sklearn import datasets\n",
    "from sklearn import svm\n",
    "\n",
    "digits = datasets.load_digits()\n",
    "\n",
    "classifier = svm.SVC(gamma=0.01, C=100)\n",
    "\n",
    "print(len(digits.data))\n",
    "\n",
    "x, y = digits.data[:-1], digits.target[:-1]\n",
    "classifier.fit(x, y)\n",
    "\n",
    "#print('Digits data: ', digits.data[-1].reshape(-1,1))\n",
    "print('Prediction:', classifier.predict(digits.data[1].reshape(1,-1)))\n",
    "\n",
    "plt.imshow(digits.images[1], cmap=plt.cm.gray_r, interpolation='nearest')\n",
    "plt.show()"
   ]
  },
  {
   "cell_type": "code",
   "execution_count": 15,
   "metadata": {
    "scrolled": true
   },
   "outputs": [
    {
     "name": "stdout",
     "output_type": "stream",
     "text": [
      "(64,)\n",
      "\n",
      "Prediction for C= 0.01 and gamma= 0.5 : [3]\n",
      "Prediction for C= 0.01 and gamma= 0.5 : [3]\n",
      "Prediction for C= 0.01 and gamma= 0.5 : [3]\n",
      "Prediction for C= 0.01 and gamma= 0.5 : [3]\n",
      "Prediction for C= 0.01 and gamma= 0.5 : [3]\n",
      "\n",
      "Prediction for C= 10 and gamma= 0.005 : [1]\n",
      "Prediction for C= 10 and gamma= 0.005 : [8]\n",
      "Prediction for C= 10 and gamma= 0.005 : [4]\n",
      "Prediction for C= 10 and gamma= 0.005 : [3]\n",
      "Prediction for C= 10 and gamma= 0.005 : [9]\n",
      "\n",
      "Prediction for C= 1000 and gamma= 0.99999 : [1]\n",
      "Prediction for C= 1000 and gamma= 0.99999 : [3]\n",
      "Prediction for C= 1000 and gamma= 0.99999 : [4]\n",
      "Prediction for C= 1000 and gamma= 0.99999 : [3]\n",
      "Prediction for C= 1000 and gamma= 0.99999 : [9]\n"
     ]
    },
    {
     "data": {
      "image/png": "[encoded data removed]",
      "text/plain": [
       "<Figure size 432x288 with 1 Axes>"
      ]
     },
     "metadata": {
      "needs_background": "light"
     },
     "output_type": "display_data"
    },
    {
     "data": {
      "image/png": "[encoded data removed]",
      "text/plain": [
       "<Figure size 432x288 with 1 Axes>"
      ]
     },
     "metadata": {
      "needs_background": "light"
     },
     "output_type": "display_data"
    },
    {
     "data": {
      "image/png": "[encoded data removed]",
      "text/plain": [
       "<Figure size 432x288 with 1 Axes>"
      ]
     },
     "metadata": {
      "needs_background": "light"
     },
     "output_type": "display_data"
    },
    {
     "data": {
      "image/png": "[encoded data removed]",
      "text/plain": [
       "<Figure size 432x288 with 1 Axes>"
      ]
     },
     "metadata": {
      "needs_background": "light"
     },
     "output_type": "display_data"
    },
    {
     "data": {
      "image/png": "[encoded data removed]",
      "text/plain": [
       "<Figure size 432x288 with 1 Axes>"
      ]
     },
     "metadata": {
      "needs_background": "light"
     },
     "output_type": "display_data"
    }
   ],
   "source": [
    "__author__ = 'user'\n",
    "# http://pythonprogramming.net/support-vector-machine-svm-example-tutorial-scikit-learn-python/\n",
    "\n",
    "import matplotlib.pyplot as plt\n",
    "\n",
    "from sklearn import datasets\n",
    "from sklearn import svm\n",
    "\n",
    "digits = datasets.load_digits()\n",
    "x, y = digits.data[:-1], digits.target[:-1]\n",
    "\n",
    "C_2d_range = [0.01,10,1000]\n",
    "gamma_2d_range = [0.5,0.005,0.99999]\n",
    "print(digits.data[-1].shape)\n",
    "\n",
    "for i in range(3):\n",
    "    clf = svm.SVC(C=C_2d_range[i], gamma=gamma_2d_range[i])\n",
    "    clf.fit(x,y)\n",
    "    print('\\nPrediction for C=', C_2d_range[i],'and gamma=', gamma_2d_range[i],':', clf.predict(digits.data[1].reshape(1,-1)))\n",
    "    print('Prediction for C=', C_2d_range[i],'and gamma=', gamma_2d_range[i],':',clf.predict(digits.data[-1].reshape(1,-1)))\n",
    "    print('Prediction for C=', C_2d_range[i],'and gamma=', gamma_2d_range[i],':', clf.predict(digits.data[4].reshape(1,-1)))\n",
    "    print('Prediction for C=', C_2d_range[i],'and gamma=', gamma_2d_range[i],':', clf.predict(digits.data[3].reshape(1,-1)))\n",
    "    print('Prediction for C=', C_2d_range[i],'and gamma=', gamma_2d_range[i],':', clf.predict(digits.data[-5].reshape(1,-1)))\n",
    "    \n",
    "plt.imshow(digits.images[1], cmap=plt.cm.gray_r, interpolation='nearest')\n",
    "plt.show()\n",
    "plt.imshow(digits.images[-1], cmap=plt.cm.gray_r, interpolation='nearest')\n",
    "plt.show()\n",
    "plt.imshow(digits.images[4], cmap=plt.cm.gray_r, interpolation='nearest')\n",
    "plt.show()\n",
    "plt.imshow(digits.images[3], cmap=plt.cm.gray_r, interpolation='nearest')\n",
    "plt.show()\n",
    "plt.imshow(digits.images[-5], cmap=plt.cm.gray_r, interpolation='nearest')\n",
    "plt.show()"
   ]
  },
  {
   "cell_type": "code",
   "execution_count": 16,
   "metadata": {},
   "outputs": [
    {
     "data": {
      "text/plain": [
       "<matplotlib.image.AxesImage at 0x1aebf493080>"
      ]
     },
     "execution_count": 16,
     "metadata": {},
     "output_type": "execute_result"
    },
    {
     "data": {
      "image/png": "[encoded data removed]",
      "text/plain": [
       "<Figure size 432x288 with 1 Axes>"
      ]
     },
     "metadata": {
      "needs_background": "light"
     },
     "output_type": "display_data"
    }
   ],
   "source": [
    "plt.imshow(digits.images[3], cmap=plt.cm.gray_r, interpolation='nearest')"
   ]
  }
 ],
 "metadata": {
  "kernelspec": {
   "display_name": "Python 3",
   "language": "python",
   "name": "python3"
  },
  "language_info": {
   "codemirror_mode": {
    "name": "ipython",
    "version": 3
   },
   "file_extension": ".py",
   "mimetype": "text/x-python",
   "name": "python",
   "nbconvert_exporter": "python",
   "pygments_lexer": "ipython3",
   "version": "3.7.3"
  }
 },
 "nbformat": 4,
 "nbformat_minor": 2
}
