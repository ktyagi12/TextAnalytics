{
 "cells": [
  {
   "cell_type": "code",
   "execution_count": 2,
   "metadata": {},
   "outputs": [],
   "source": [
    "import pandas as pd\n",
    "from sklearn.metrics import roc_curve\n",
    "import matplotlib.pyplot as plt\n",
    "import numpy as np"
   ]
  },
  {
   "cell_type": "code",
   "execution_count": 3,
   "metadata": {},
   "outputs": [
    {
     "data": {
      "text/html": [
       "<div>\n",
       "<style scoped>\n",
       "    .dataframe tbody tr th:only-of-type {\n",
       "        vertical-align: middle;\n",
       "    }\n",
       "\n",
       "    .dataframe tbody tr th {\n",
       "        vertical-align: top;\n",
       "    }\n",
       "\n",
       "    .dataframe thead th {\n",
       "        text-align: right;\n",
       "    }\n",
       "</style>\n",
       "<table border=\"1\" class=\"dataframe\">\n",
       "  <thead>\n",
       "    <tr style=\"text-align: right;\">\n",
       "      <th></th>\n",
       "      <th>Threshold</th>\n",
       "      <th>TP</th>\n",
       "      <th>FN</th>\n",
       "      <th>FP</th>\n",
       "      <th>TN</th>\n",
       "      <th>Correct</th>\n",
       "      <th>Incorrect</th>\n",
       "      <th>test Set</th>\n",
       "      <th>Precision</th>\n",
       "      <th>Recall/TPR</th>\n",
       "      <th>F1 Measure</th>\n",
       "      <th>FPR</th>\n",
       "      <th>MisDetection</th>\n",
       "    </tr>\n",
       "  </thead>\n",
       "  <tbody>\n",
       "    <tr>\n",
       "      <td>0</td>\n",
       "      <td>1</td>\n",
       "      <td>20</td>\n",
       "      <td>80</td>\n",
       "      <td>2</td>\n",
       "      <td>98</td>\n",
       "      <td>100</td>\n",
       "      <td>100</td>\n",
       "      <td>200</td>\n",
       "      <td>0.909091</td>\n",
       "      <td>0.20</td>\n",
       "      <td>0.327869</td>\n",
       "      <td>0.02</td>\n",
       "      <td>0.80</td>\n",
       "    </tr>\n",
       "    <tr>\n",
       "      <td>1</td>\n",
       "      <td>5</td>\n",
       "      <td>50</td>\n",
       "      <td>50</td>\n",
       "      <td>5</td>\n",
       "      <td>95</td>\n",
       "      <td>100</td>\n",
       "      <td>100</td>\n",
       "      <td>200</td>\n",
       "      <td>0.909091</td>\n",
       "      <td>0.50</td>\n",
       "      <td>0.645161</td>\n",
       "      <td>0.05</td>\n",
       "      <td>0.50</td>\n",
       "    </tr>\n",
       "    <tr>\n",
       "      <td>2</td>\n",
       "      <td>10</td>\n",
       "      <td>60</td>\n",
       "      <td>40</td>\n",
       "      <td>10</td>\n",
       "      <td>90</td>\n",
       "      <td>100</td>\n",
       "      <td>100</td>\n",
       "      <td>200</td>\n",
       "      <td>0.857143</td>\n",
       "      <td>0.60</td>\n",
       "      <td>0.705882</td>\n",
       "      <td>0.10</td>\n",
       "      <td>0.40</td>\n",
       "    </tr>\n",
       "    <tr>\n",
       "      <td>3</td>\n",
       "      <td>15</td>\n",
       "      <td>80</td>\n",
       "      <td>20</td>\n",
       "      <td>20</td>\n",
       "      <td>80</td>\n",
       "      <td>100</td>\n",
       "      <td>100</td>\n",
       "      <td>200</td>\n",
       "      <td>0.800000</td>\n",
       "      <td>0.80</td>\n",
       "      <td>0.800000</td>\n",
       "      <td>0.20</td>\n",
       "      <td>0.20</td>\n",
       "    </tr>\n",
       "    <tr>\n",
       "      <td>4</td>\n",
       "      <td>20</td>\n",
       "      <td>88</td>\n",
       "      <td>12</td>\n",
       "      <td>30</td>\n",
       "      <td>70</td>\n",
       "      <td>100</td>\n",
       "      <td>100</td>\n",
       "      <td>200</td>\n",
       "      <td>0.745763</td>\n",
       "      <td>0.88</td>\n",
       "      <td>0.807339</td>\n",
       "      <td>0.30</td>\n",
       "      <td>0.12</td>\n",
       "    </tr>\n",
       "    <tr>\n",
       "      <td>5</td>\n",
       "      <td>25</td>\n",
       "      <td>90</td>\n",
       "      <td>10</td>\n",
       "      <td>40</td>\n",
       "      <td>60</td>\n",
       "      <td>100</td>\n",
       "      <td>100</td>\n",
       "      <td>200</td>\n",
       "      <td>0.692308</td>\n",
       "      <td>0.90</td>\n",
       "      <td>0.782609</td>\n",
       "      <td>0.40</td>\n",
       "      <td>0.10</td>\n",
       "    </tr>\n",
       "    <tr>\n",
       "      <td>6</td>\n",
       "      <td>30</td>\n",
       "      <td>95</td>\n",
       "      <td>5</td>\n",
       "      <td>50</td>\n",
       "      <td>50</td>\n",
       "      <td>100</td>\n",
       "      <td>100</td>\n",
       "      <td>200</td>\n",
       "      <td>0.655172</td>\n",
       "      <td>0.95</td>\n",
       "      <td>0.775510</td>\n",
       "      <td>0.50</td>\n",
       "      <td>0.05</td>\n",
       "    </tr>\n",
       "    <tr>\n",
       "      <td>7</td>\n",
       "      <td>35</td>\n",
       "      <td>96</td>\n",
       "      <td>4</td>\n",
       "      <td>60</td>\n",
       "      <td>40</td>\n",
       "      <td>100</td>\n",
       "      <td>100</td>\n",
       "      <td>200</td>\n",
       "      <td>0.615385</td>\n",
       "      <td>0.96</td>\n",
       "      <td>0.750000</td>\n",
       "      <td>0.60</td>\n",
       "      <td>0.04</td>\n",
       "    </tr>\n",
       "    <tr>\n",
       "      <td>8</td>\n",
       "      <td>40</td>\n",
       "      <td>97</td>\n",
       "      <td>3</td>\n",
       "      <td>70</td>\n",
       "      <td>30</td>\n",
       "      <td>100</td>\n",
       "      <td>100</td>\n",
       "      <td>200</td>\n",
       "      <td>0.580838</td>\n",
       "      <td>0.97</td>\n",
       "      <td>0.726592</td>\n",
       "      <td>0.70</td>\n",
       "      <td>0.03</td>\n",
       "    </tr>\n",
       "    <tr>\n",
       "      <td>9</td>\n",
       "      <td>50</td>\n",
       "      <td>98</td>\n",
       "      <td>2</td>\n",
       "      <td>80</td>\n",
       "      <td>20</td>\n",
       "      <td>100</td>\n",
       "      <td>100</td>\n",
       "      <td>200</td>\n",
       "      <td>0.550562</td>\n",
       "      <td>0.98</td>\n",
       "      <td>0.705036</td>\n",
       "      <td>0.80</td>\n",
       "      <td>0.02</td>\n",
       "    </tr>\n",
       "  </tbody>\n",
       "</table>\n",
       "</div>"
      ],
      "text/plain": [
       "   Threshold  TP  FN  FP  TN  Correct  Incorrect  test Set  Precision  \\\n",
       "0          1  20  80   2  98      100        100       200   0.909091   \n",
       "1          5  50  50   5  95      100        100       200   0.909091   \n",
       "2         10  60  40  10  90      100        100       200   0.857143   \n",
       "3         15  80  20  20  80      100        100       200   0.800000   \n",
       "4         20  88  12  30  70      100        100       200   0.745763   \n",
       "5         25  90  10  40  60      100        100       200   0.692308   \n",
       "6         30  95   5  50  50      100        100       200   0.655172   \n",
       "7         35  96   4  60  40      100        100       200   0.615385   \n",
       "8         40  97   3  70  30      100        100       200   0.580838   \n",
       "9         50  98   2  80  20      100        100       200   0.550562   \n",
       "\n",
       "   Recall/TPR  F1 Measure   FPR  MisDetection  \n",
       "0        0.20    0.327869  0.02          0.80  \n",
       "1        0.50    0.645161  0.05          0.50  \n",
       "2        0.60    0.705882  0.10          0.40  \n",
       "3        0.80    0.800000  0.20          0.20  \n",
       "4        0.88    0.807339  0.30          0.12  \n",
       "5        0.90    0.782609  0.40          0.10  \n",
       "6        0.95    0.775510  0.50          0.05  \n",
       "7        0.96    0.750000  0.60          0.04  \n",
       "8        0.97    0.726592  0.70          0.03  \n",
       "9        0.98    0.705036  0.80          0.02  "
      ]
     },
     "execution_count": 3,
     "metadata": {},
     "output_type": "execute_result"
    }
   ],
   "source": [
    "dframe_Q1 = pd.read_excel('Input.xlsx')\n",
    "dframe_Q1"
   ]
  },
  {
   "cell_type": "markdown",
   "metadata": {},
   "source": [
    "### Q2: ROC Curve"
   ]
  },
  {
   "cell_type": "code",
   "execution_count": 4,
   "metadata": {},
   "outputs": [
    {
     "data": {
      "text/plain": [
       "Text(0, 0.5, 'True Positive Rate')"
      ]
     },
     "execution_count": 4,
     "metadata": {},
     "output_type": "execute_result"
    },
    {
     "data": {
      "image/png": "[encoded data removed]",
      "text/plain": [
       "<Figure size 700x630 with 1 Axes>"
      ]
     },
     "metadata": {
      "needs_background": "light"
     },
     "output_type": "display_data"
    }
   ],
   "source": [
    "plt.figure(figsize=(10,9),dpi=70)\n",
    "X = dframe_Q1['FPR']\n",
    "Y = dframe_Q1['Recall/TPR']\n",
    "plt.plot(X,Y,color='green', label='ROC', marker = 'o')\n",
    "plt.plot([0, 1], [0, 1], color='navy',  lw=2,linestyle='--')\n",
    "\n",
    "plt.xticks(np.arange(0,1.1,0.1), rotation = 'vertical')\n",
    "plt.yticks(np.arange(0,1.1,0.1), rotation= 'horizontal')\n",
    "\n",
    "plt.xlim([0.0, 1.0])\n",
    "plt.ylim([0.0, 1.0])\n",
    "plt.margins(0.05, 0.1)\n",
    "\n",
    "for x,y in zip(X,Y):\n",
    "    label = '('+str(\"{:.2f}\".format(x))+','+str(\"{:.2f}\".format(y))+')'\n",
    "    plt.annotate(label, # this is the text\n",
    "                 (x,y), # this is the point to label\n",
    "                 textcoords=\"offset points\", # how to position the text\n",
    "                 xytext=(0,10), # distance from text to points (x,y)\n",
    "                 ha='center') # horizontal alignment can be left, right or center\n",
    "plt.legend(loc=\"lower right\")\n",
    "plt.title('Receiver Operating Characteristic (ROC) Curve')\n",
    "plt.xlabel('False Positive Rate')\n",
    "plt.ylabel('True Positive Rate')"
   ]
  },
  {
   "cell_type": "markdown",
   "metadata": {},
   "source": [
    "### Q3: DET Curve"
   ]
  },
  {
   "cell_type": "code",
   "execution_count": 6,
   "metadata": {},
   "outputs": [
    {
     "data": {
      "text/plain": [
       "Text(0, 0.5, 'MisDetection Rate %')"
      ]
     },
     "execution_count": 6,
     "metadata": {},
     "output_type": "execute_result"
    },
    {
     "data": {
      "text/plain": [
       "<Figure size 1000x900 with 0 Axes>"
      ]
     },
     "metadata": {},
     "output_type": "display_data"
    },
    {
     "data": {
      "image/png": "[encoded data removed]",
      "text/plain": [
       "<Figure size 432x288 with 1 Axes>"
      ]
     },
     "metadata": {
      "needs_background": "light"
     },
     "output_type": "display_data"
    }
   ],
   "source": [
    "from matplotlib import pyplot as plt\n",
    "import matplotlib\n",
    "\n",
    "plt.figure(figsize=(10,9),dpi=100)\n",
    "#plt.figure()\n",
    "X = dframe_Q1['FPR']\n",
    "Y = dframe_Q1['MisDetection']\n",
    "\n",
    "#print(X,Y)\n",
    "\n",
    "fig,ax = plt.subplots()\n",
    "plt.plot(X,Y,color='red', label='DET', marker = 'o')\n",
    "\n",
    "plt.yscale('log')\n",
    "plt.xscale('log')\n",
    "\n",
    "ticks_to_use = [0.001,0.01,0.1,0.5,1,5,10]\n",
    "\n",
    "ax.get_xaxis().set_major_formatter(matplotlib.ticker.ScalarFormatter())\n",
    "ax.get_yaxis().set_major_formatter(matplotlib.ticker.ScalarFormatter())\n",
    "\n",
    "ax.set_xticks(ticks_to_use)\n",
    "ax.set_yticks(ticks_to_use)\n",
    "\n",
    "plt.legend(loc=\"lower right\")\n",
    "plt.title('Detection Error TradeOff (DET) Curve')\n",
    "plt.xlabel('False Positive Rate %')\n",
    "plt.ylabel('MisDetection Rate %')"
   ]
  },
  {
   "cell_type": "code",
   "execution_count": null,
   "metadata": {},
   "outputs": [],
   "source": []
  }
 ],
 "metadata": {
  "kernelspec": {
   "display_name": "Python 3",
   "language": "python",
   "name": "python3"
  },
  "language_info": {
   "codemirror_mode": {
    "name": "ipython",
    "version": 3
   },
   "file_extension": ".py",
   "mimetype": "text/x-python",
   "name": "python",
   "nbconvert_exporter": "python",
   "pygments_lexer": "ipython3",
   "version": "3.7.3"
  }
 },
 "nbformat": 4,
 "nbformat_minor": 2
}
